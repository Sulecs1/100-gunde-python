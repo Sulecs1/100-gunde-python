{
 "cells": [
  {
   "cell_type": "markdown",
   "metadata": {},
   "source": [
    "## Döngüler\n",
    "\n",
    "Programlamada bazı işlemler tekrar tekrar gerçekleşebilir. Bunun için de döngüler kullanılır.\n",
    "\n",
    "Python'da kullanılan dönglerden biri de for döngüsüdür."
   ]
  },
  {
   "cell_type": "code",
   "execution_count": 1,
   "metadata": {},
   "outputs": [
    {
     "name": "stdout",
     "output_type": "stream",
     "text": [
      "Apple\n",
      "Peach\n",
      "Pear\n"
     ]
    }
   ],
   "source": [
    "fruits = [\"Apple\", \"Peach\", \"Pear\"]\n",
    "for fruit in fruits:\n",
    "    print(fruit) # bütün değerleri tek tek yaz"
   ]
  },
  {
   "cell_type": "markdown",
   "metadata": {},
   "source": [
    "## range() fonksiyonu\n",
    "\n",
    "For döngüsü her zaman listeler ile kullanılamayabilir. Bazı durumlarda iteratif işler de gerçekleştirmek istenebilir ve range() fonksiyonu bu işlemi sağlar."
   ]
  },
  {
   "cell_type": "code",
   "execution_count": 2,
   "metadata": {},
   "outputs": [
    {
     "name": "stdout",
     "output_type": "stream",
     "text": [
      "1\n",
      "2\n",
      "3\n",
      "4\n",
      "5\n",
      "6\n",
      "7\n",
      "8\n",
      "9\n",
      "10\n"
     ]
    }
   ],
   "source": [
    "for number in range(1, 11): # 1 dahil 11 dahil değil.\n",
    "    print(number)"
   ]
  },
  {
   "cell_type": "markdown",
   "metadata": {},
   "source": [
    "İlk parametresi başlangıç değeri, ikinci parametresi bitiş değeri (dahil değil), üçüncü parametresi ise adım sayısı olarak kullanılır."
   ]
  },
  {
   "cell_type": "code",
   "execution_count": 3,
   "metadata": {},
   "outputs": [
    {
     "name": "stdout",
     "output_type": "stream",
     "text": [
      "1\n",
      "4\n",
      "7\n",
      "10\n"
     ]
    }
   ],
   "source": [
    "for number in range(1, 11, 3): # burada 3 adım sayısını gösterir\n",
    "    print(number)"
   ]
  },
  {
   "cell_type": "code",
   "execution_count": 4,
   "metadata": {},
   "outputs": [
    {
     "name": "stdout",
     "output_type": "stream",
     "text": [
      "5050\n"
     ]
    }
   ],
   "source": [
    "# 1-100 değerlerinin toplamını bulan program\n",
    "\n",
    "total = 0\n",
    "for number in range(1, 101):\n",
    "    total += number\n",
    "print(total)"
   ]
  },
  {
   "cell_type": "markdown",
   "metadata": {},
   "source": [
    "## Mini Projeler"
   ]
  },
  {
   "cell_type": "markdown",
   "metadata": {},
   "source": [
    "### Mini Proje 1 - Ortalama Ağırlık Hesaplama\n",
    "\n",
    "Burada amaç birden fazla öğrenicinin ortalama ağırlıklarını hesaplamak. Örnek olarak aşağıdaki seti kullanabilrisiniz.\n",
    "\n",
    "`68 70 90 75 61 58`\n",
    "\n",
    "(**Dikkat edilmesi gereken nokta her bir ağırlık değeri arasında boşlukların olmasıdır.**) "
   ]
  },
  {
   "cell_type": "code",
   "execution_count": 5,
   "metadata": {},
   "outputs": [
    {
     "name": "stdin",
     "output_type": "stream",
     "text": [
      "Input a list of student heights  68 70 90 75 61 58\n"
     ]
    },
    {
     "name": "stdout",
     "output_type": "stream",
     "text": [
      "70\n"
     ]
    }
   ],
   "source": [
    "student_heights = input(\"Input a list of student heights \").split()\n",
    "for n in range(0, len(student_heights)):\n",
    "    student_heights[n] = int(student_heights[n])\n",
    "\n",
    "iter = 0\n",
    "total_height = 0\n",
    "\n",
    "for height in student_heights:\n",
    "    total_height += height\n",
    "    iter += 1\n",
    "\n",
    "print(round(total_height / iter))"
   ]
  },
  {
   "cell_type": "markdown",
   "metadata": {},
   "source": [
    "### Mini Proje 2 - Yüksek Skorun hesaplanması\n",
    "\n",
    "Burada amaç en yüksek nota sahip öğrenciyi bulmak. Aşağıdaki notları örnek alarak test edebilirsiniz.\n",
    "\n",
    "`75 72 90 87 61 94`\n",
    "\n",
    "(**Dikkat edilmesi gereken nokta her bir not değeri arasında boşlukların olmasıdır.**)"
   ]
  },
  {
   "cell_type": "code",
   "execution_count": 6,
   "metadata": {},
   "outputs": [
    {
     "name": "stdin",
     "output_type": "stream",
     "text": [
      "Input a list of student scores  75 72 90 87 61 94\n"
     ]
    },
    {
     "name": "stdout",
     "output_type": "stream",
     "text": [
      "[75, 72, 90, 87, 61, 94]\n",
      "The highest score in the class is: 94. Student number is: 6\n"
     ]
    }
   ],
   "source": [
    "student_scores = input(\"Input a list of student scores \").split()\n",
    "for n in range(0, len(student_scores)):\n",
    "    student_scores[n] = int(student_scores[n])\n",
    "\n",
    "max_value = 0\n",
    "num = 0\n",
    "\n",
    "for st_n, score in enumerate(student_scores, start=1):\n",
    "    if max_value < score:\n",
    "        max_value = score\n",
    "        num = st_n\n",
    "\n",
    "print(f\"The highest score in the class is: {max_value}. Student number is: {num}\")"
   ]
  },
  {
   "cell_type": "markdown",
   "metadata": {},
   "source": [
    "### Mini Proje 3 - FizzBuzz Game\n",
    "\n",
    "Burada amaç [FizzBuzz oyunu](https://en.wikipedia.org/wiki/Fizz_buzz) yazmak."
   ]
  },
  {
   "cell_type": "code",
   "execution_count": 8,
   "metadata": {},
   "outputs": [
    {
     "name": "stdout",
     "output_type": "stream",
     "text": [
      "1\n",
      "2\n",
      "Fizz\n",
      "4\n",
      "Buzz\n",
      "Fizz\n",
      "7\n",
      "8\n",
      "Fizz\n",
      "Buzz\n",
      "11\n",
      "Fizz\n",
      "13\n",
      "14\n",
      "FizzBuzz\n"
     ]
    }
   ],
   "source": [
    "for number in range(1, 16):\n",
    "    if number % 3 == 0 and number % 5 == 0:\n",
    "        print(\"FizzBuzz\")\n",
    "    elif number % 3 == 0:\n",
    "        print(\"Fizz\")\n",
    "    elif number % 5 == 0:\n",
    "        print(\"Buzz\")\n",
    "    else:\n",
    "        print(number)"
   ]
  }
 ],
 "metadata": {
  "kernelspec": {
   "display_name": "Python 3",
   "language": "python",
   "name": "python3"
  },
  "language_info": {
   "codemirror_mode": {
    "name": "ipython",
    "version": 3
   },
   "file_extension": ".py",
   "mimetype": "text/x-python",
   "name": "python",
   "nbconvert_exporter": "python",
   "pygments_lexer": "ipython3",
   "version": "3.8.5"
  }
 },
 "nbformat": 4,
 "nbformat_minor": 4
}
