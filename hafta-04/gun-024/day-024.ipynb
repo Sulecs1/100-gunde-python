{
 "cells": [
  {
   "cell_type": "markdown",
   "metadata": {
    "collapsed": true,
    "pycharm": {
     "name": "#%% md\n"
    }
   },
   "source": [
    "# Dosya İşlemleri\n",
    "\n",
    "Python'da dosya işlemleri `open()` fonksiyonu ile gerçekleşir."
   ]
  },
  {
   "cell_type": "code",
   "execution_count": 1,
   "outputs": [
    {
     "name": "stdout",
     "output_type": "stream",
     "text": [
      "Merhaba Ben Cemal.\n",
      "Yasim 25\n",
      "Python Programlamayi Seviyorum\n"
     ]
    }
   ],
   "source": [
    "with open(\"my_file.txt\") as file:\n",
    "    contents = file.read()\n",
    "    print(contents)"
   ],
   "metadata": {
    "collapsed": false,
    "pycharm": {
     "name": "#%%\n"
    }
   }
  },
  {
   "cell_type": "markdown",
   "source": [
    "Burada with anahtar kelimesi fonksiyon süresince anlamına gelir. read() metodu ise dosyanın içindeki metinlerin okunmasını sağlar."
   ],
   "metadata": {
    "collapsed": false
   }
  },
  {
   "cell_type": "code",
   "execution_count": 2,
   "outputs": [
    {
     "ename": "UnsupportedOperation",
     "evalue": "not writable",
     "output_type": "error",
     "traceback": [
      "\u001B[1;31m---------------------------------------------------------------------------\u001B[0m",
      "\u001B[1;31mUnsupportedOperation\u001B[0m                      Traceback (most recent call last)",
      "\u001B[1;32m<ipython-input-2-489218eea664>\u001B[0m in \u001B[0;36m<module>\u001B[1;34m\u001B[0m\n\u001B[0;32m      1\u001B[0m \u001B[1;32mwith\u001B[0m \u001B[0mopen\u001B[0m\u001B[1;33m(\u001B[0m\u001B[1;34m\"my_file.txt\"\u001B[0m\u001B[1;33m)\u001B[0m \u001B[1;32mas\u001B[0m \u001B[0mfile\u001B[0m\u001B[1;33m:\u001B[0m\u001B[1;33m\u001B[0m\u001B[1;33m\u001B[0m\u001B[0m\n\u001B[1;32m----> 2\u001B[1;33m     \u001B[0mfile\u001B[0m\u001B[1;33m.\u001B[0m\u001B[0mwrite\u001B[0m\u001B[1;33m(\u001B[0m\u001B[1;34m\"Yeni metin.\"\u001B[0m\u001B[1;33m)\u001B[0m\u001B[1;33m\u001B[0m\u001B[1;33m\u001B[0m\u001B[0m\n\u001B[0m\u001B[0;32m      3\u001B[0m \u001B[1;33m\u001B[0m\u001B[0m\n",
      "\u001B[1;31mUnsupportedOperation\u001B[0m: not writable"
     ]
    }
   ],
   "source": [
    "with open(\"my_file.txt\") as file:\n",
    "    file.write(\"Yeni metin.\")"
   ],
   "metadata": {
    "collapsed": false,
    "pycharm": {
     "name": "#%%\n"
    }
   }
  },
  {
   "cell_type": "markdown",
   "source": [
    "Çıktı incelendiğinde dosya okunabilir bir dosya değil. Bu yüzden dosyayı okunabilir dosya yapmak gerekir."
   ],
   "metadata": {
    "collapsed": false
   }
  },
  {
   "cell_type": "code",
   "execution_count": 3,
   "outputs": [
    {
     "name": "stdout",
     "output_type": "stream",
     "text": [
      "Yeni metin.\n"
     ]
    }
   ],
   "source": [
    "# dosya yazdırıldı\n",
    "with open(\"my_file.txt\", mode=\"w\") as file:\n",
    "    file.write(\"Yeni metin.\")\n",
    "\n",
    "# dosya okutuldu\n",
    "with open(\"my_file.txt\") as file:\n",
    "    contents = file.read()\n",
    "    print(contents)"
   ],
   "metadata": {
    "collapsed": false,
    "pycharm": {
     "name": "#%%\n"
    }
   }
  },
  {
   "cell_type": "markdown",
   "source": [
    "Görüldüğü üzere, dosya üzerine yazma işlemi `mode=\"w\"` argümanı ile gerçekleşmekte ancak `my_file.txt` dosyasının içindeki eski metinler yok oldu ve sadece `Yeni metin.` ifadesi eklendi. w modu, dosyayı sıfırdan yazar. Eskileri siler. Bu mod çoğunlukla yeni bir dosya oluşturulurken kullanılır."
   ],
   "metadata": {
    "collapsed": false
   }
  },
  {
   "cell_type": "code",
   "execution_count": 4,
   "outputs": [
    {
     "name": "stdout",
     "output_type": "stream",
     "text": [
      "Yeni metin.\n"
     ]
    }
   ],
   "source": [
    "# sıfırdan doysa oluşturma\n",
    "with open(\"new_file.txt\", mode=\"w\") as file:\n",
    "    file.write(\"Yeni metin.\")\n",
    "\n",
    "# dosya okutuldu\n",
    "with open(\"new_file.txt\") as file:\n",
    "    contents = file.read()\n",
    "    print(contents)"
   ],
   "metadata": {
    "collapsed": false,
    "pycharm": {
     "name": "#%%\n"
    }
   }
  },
  {
   "cell_type": "markdown",
   "source": [
    "Burada dizinde olmayan `new_file.txt` dosyası w modu sayesinde dizinde oluşturuldu.\n",
    "\n",
    "Mevcut bir dosyaya yeni bir metin eklemek için a modu kullanılır. a, append kelimesinden gelir."
   ],
   "metadata": {
    "collapsed": false
   }
  },
  {
   "cell_type": "code",
   "execution_count": 6,
   "outputs": [
    {
     "name": "stdout",
     "output_type": "stream",
     "text": [
      "Merhaba Ben Cemal.\n",
      "Yasim 25\n",
      "Python Programlamayi Seviyorum\n",
      "Yeni metin.\n"
     ]
    }
   ],
   "source": [
    "# dosya yazdırıldı\n",
    "with open(\"my_file.txt\", mode=\"a\") as file:\n",
    "    file.write(\"\\nYeni metin.\")\n",
    "\n",
    "# dosya okutuldu\n",
    "with open(\"my_file.txt\") as file:\n",
    "    contents = file.read()\n",
    "    print(contents)"
   ],
   "metadata": {
    "collapsed": false,
    "pycharm": {
     "name": "#%%\n"
    }
   }
  },
  {
   "cell_type": "markdown",
   "source": [
    "Görüldüğü üzere a modu ile önceki metinler silinmeden yeni metin eklendi."
   ],
   "metadata": {
    "collapsed": false
   }
  }
 ],
 "metadata": {
  "kernelspec": {
   "display_name": "Python 3",
   "language": "python",
   "name": "python3"
  },
  "language_info": {
   "codemirror_mode": {
    "name": "ipython",
    "version": 2
   },
   "file_extension": ".py",
   "mimetype": "text/x-python",
   "name": "python",
   "nbconvert_exporter": "python",
   "pygments_lexer": "ipython2",
   "version": "2.7.6"
  }
 },
 "nbformat": 4,
 "nbformat_minor": 0
}