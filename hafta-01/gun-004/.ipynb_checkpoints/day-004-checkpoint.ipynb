{
 "cells": [
  {
   "cell_type": "markdown",
   "metadata": {},
   "source": [
    "## Rasgelelik\n",
    "\n",
    "- Programlamada rassallık önemli bir yere sahip.\n",
    "- Özellikle bu rassallığı oyunlarda görürüz.\n",
    "- Deterministik sistemlerde (bilgisayarlarda) hangi girdinin hangi çıktıyı vereceği bellidir.\n",
    "- Skotastik sistemlerde ise girdinin vereceği çıktı belli değildir ve bu durumu rasgelelil veya rassallık olarak adlandırabiliriz.\n",
    "- Python'da rasgelelik [Mersenne Twister](https://tr.wikipedia.org/wiki/S%C3%B6zde_rassal_say%C4%B1_%C3%BCreteci#Mersenne_twister) algoritması ile oluşturulur.\n",
    "- Python'da rasgele sayı oluşturmak için random modülü kullanılabilir. [askpython.com](askpython.com) adresinden modüller hakkında bilgi alabilirsiniz."
   ]
  },
  {
   "cell_type": "code",
   "execution_count": 1,
   "metadata": {},
   "outputs": [],
   "source": [
    "import random # random kütüphanesinin çağrılması"
   ]
  },
  {
   "cell_type": "code",
   "execution_count": 2,
   "metadata": {},
   "outputs": [
    {
     "name": "stdout",
     "output_type": "stream",
     "text": [
      "8\n"
     ]
    }
   ],
   "source": [
    "random_integer = random.randint(1, 10) # rasgele tamsayı üretir (1 ve 10 dahil)\n",
    "print(random_integer)"
   ]
  },
  {
   "cell_type": "markdown",
   "metadata": {},
   "source": [
    "## Modül Nedir?\n",
    "- Modül karmaşık programlar kurabilmek için başkaların ürettiği programlardan faydalanmaktır.\n",
    "- Örnek olarak random modülü Python geliştiricileri tarafından geliştirildi ve kendi projemizde çağırıp kullanabiliyoruz. Eğer bu modül geliştirilmeseydi her rasgele sayı üretme ihtiyacımız olduğunda Mersenne Twister algoritmasını kendimiz yazmak zorunda kalabilirdik.\n",
    "- Python'da modül oluşturmak basit. Aynı dizin altında modül oluşturmak için my_module.py adında bir dosya oluşturdum ve içerisinde bir değişken oluşturdum.\n",
    "- Aşağıda ise bu modülü buradaki dosyaya import ettim."
   ]
  },
  {
   "cell_type": "code",
   "execution_count": 3,
   "metadata": {},
   "outputs": [],
   "source": [
    "import my_module # kendi modülümü yazdım"
   ]
  },
  {
   "cell_type": "code",
   "execution_count": 4,
   "metadata": {},
   "outputs": [
    {
     "name": "stdout",
     "output_type": "stream",
     "text": [
      "3.14159\n"
     ]
    }
   ],
   "source": [
    "print(my_module.pi) # içerisindeki değeri çağırdım."
   ]
  },
  {
   "cell_type": "code",
   "execution_count": 5,
   "metadata": {},
   "outputs": [
    {
     "name": "stdout",
     "output_type": "stream",
     "text": [
      "0.8372354250869317\n"
     ]
    }
   ],
   "source": [
    "random_float = random.random() # rasgele ondalık sayı üretir (0 dahil 1 dahil değil).\n",
    "print(random_float)"
   ]
  },
  {
   "cell_type": "code",
   "execution_count": 6,
   "metadata": {},
   "outputs": [
    {
     "name": "stdout",
     "output_type": "stream",
     "text": [
      "4.186177125434659\n"
     ]
    }
   ],
   "source": [
    "# Soru: 0-5 arasında rasgele ondalık sayı nasıl üretilir?\n",
    "print(random_float * 5) # Cevap"
   ]
  },
  {
   "cell_type": "markdown",
   "metadata": {},
   "source": [
    "## Listeler\n",
    "- Listeler bir veri yapısıdır.\n",
    "- Veri yapısı ne demektir? Veri yapısı düzenli ve organize şekilde verileri saklamanın yoludur.\n",
    "- Tek bir veri saklamak istediğimizde tek değişken oluştururuz.\n",
    "- Birden fazla birbirine benzer değerleri saklamak için ise listeler kullanılır.\n",
    "- Listelerin yapısı basittir."
   ]
  },
  {
   "cell_type": "code",
   "execution_count": 7,
   "metadata": {},
   "outputs": [],
   "source": [
    "fruits = [\"apple\", \"orange\", \"pear\", \"cherry\"]"
   ]
  },
  {
   "cell_type": "markdown",
   "metadata": {},
   "source": [
    "Köşeli parantezler içerisinde yazılır ve farklı veri tiplerini (int, str, bool, float) içinde barındırır.\n",
    "\n",
    "Liselerde eleman seçim işlemi için köşeli parantez kullanılır."
   ]
  },
  {
   "cell_type": "code",
   "execution_count": 8,
   "metadata": {},
   "outputs": [
    {
     "name": "stdout",
     "output_type": "stream",
     "text": [
      "apple\n",
      "pear\n"
     ]
    }
   ],
   "source": [
    "print(fruits[0]) # 1. eleman\n",
    "print(fruits[2]) # 3. eleman"
   ]
  },
  {
   "cell_type": "markdown",
   "metadata": {},
   "source": [
    "## Indexler neden 0'dan başlar?\n",
    "\n",
    "<pre>\n",
    "         |   \n",
    "fruits = | [\"apple\", \"orange\", \"pear\", \"cherry\"]\n",
    "         |     0         1        2        3\n",
    "</pre>\n",
    "\n",
    "Yukarıdaki şekilde bir çizgi çizdiğimizi düşünürsek apple değeri çizgiye 0 birim uzaklıkta, orange değeri 1, pear değeri 2 ve cherry değeri 3 birim uzaklıkta. Bu yüzden programlama dillerinde indexler 0 ile başlar.\n",
    "\n",
    "İndeksler pozitif olabileceği gibi negatif de olabilirler ve -1 ile başlayarak azalırlar."
   ]
  },
  {
   "cell_type": "code",
   "execution_count": 9,
   "metadata": {},
   "outputs": [
    {
     "name": "stdout",
     "output_type": "stream",
     "text": [
      "cherry\n",
      "pear\n"
     ]
    }
   ],
   "source": [
    "print(fruits[-1]) # 4. eleman\n",
    "print(fruits[-2]) # 3. eleman"
   ]
  },
  {
   "cell_type": "markdown",
   "metadata": {},
   "source": [
    "Listeler değiştirilebilir yapıya sahiptir."
   ]
  },
  {
   "cell_type": "code",
   "execution_count": 10,
   "metadata": {},
   "outputs": [
    {
     "name": "stdout",
     "output_type": "stream",
     "text": [
      "['apple', 'orange', 'grape', 'cherry']\n"
     ]
    }
   ],
   "source": [
    "fruits[2] = \"grape\"\n",
    "print(fruits)"
   ]
  },
  {
   "cell_type": "markdown",
   "metadata": {},
   "source": [
    "Listelerin sonuna eleman eklemek için append() metodu kullanılır."
   ]
  },
  {
   "cell_type": "code",
   "execution_count": 11,
   "metadata": {},
   "outputs": [
    {
     "name": "stdout",
     "output_type": "stream",
     "text": [
      "['apple', 'orange', 'grape', 'cherry', 'mango']\n"
     ]
    }
   ],
   "source": [
    "fruits.append(\"mango\")\n",
    "print(fruits)"
   ]
  },
  {
   "cell_type": "markdown",
   "metadata": {},
   "source": [
    "Eklemen istenen eleman bir değil de birden fazla ise extend() metodu kullanılır."
   ]
  },
  {
   "cell_type": "code",
   "execution_count": 12,
   "metadata": {},
   "outputs": [
    {
     "name": "stdout",
     "output_type": "stream",
     "text": [
      "['apple', 'orange', 'grape', 'cherry', 'mango', 'watermelon', 'peach']\n"
     ]
    }
   ],
   "source": [
    "fruits.extend([\"watermelon\", \"peach\"])\n",
    "print(fruits)"
   ]
  },
  {
   "cell_type": "markdown",
   "metadata": {},
   "source": [
    "## IndexError\n",
    "\n",
    "Liste elemanı seçim işleminde indeks sayısından fazla yazılıyor ise `IndexError` hatası alınır."
   ]
  },
  {
   "cell_type": "code",
   "execution_count": 13,
   "metadata": {},
   "outputs": [
    {
     "ename": "IndexError",
     "evalue": "list index out of range",
     "output_type": "error",
     "traceback": [
      "\u001b[1;31m---------------------------------------------------------------------------\u001b[0m",
      "\u001b[1;31mIndexError\u001b[0m                                Traceback (most recent call last)",
      "\u001b[1;32m<ipython-input-13-f9ce0630fc0a>\u001b[0m in \u001b[0;36m<module>\u001b[1;34m\u001b[0m\n\u001b[1;32m----> 1\u001b[1;33m \u001b[0mprint\u001b[0m\u001b[1;33m(\u001b[0m\u001b[0mfruits\u001b[0m\u001b[1;33m[\u001b[0m\u001b[0mlen\u001b[0m\u001b[1;33m(\u001b[0m\u001b[0mfruits\u001b[0m\u001b[1;33m)\u001b[0m\u001b[1;33m]\u001b[0m\u001b[1;33m)\u001b[0m\u001b[1;33m\u001b[0m\u001b[1;33m\u001b[0m\u001b[0m\n\u001b[0m",
      "\u001b[1;31mIndexError\u001b[0m: list index out of range"
     ]
    }
   ],
   "source": [
    "print(fruits[len(fruits)])"
   ]
  },
  {
   "cell_type": "markdown",
   "metadata": {},
   "source": [
    "Bu hatayı düzeltmek için bir eksiğini almak yeterli olur."
   ]
  },
  {
   "cell_type": "code",
   "execution_count": 14,
   "metadata": {},
   "outputs": [
    {
     "name": "stdout",
     "output_type": "stream",
     "text": [
      "peach\n"
     ]
    }
   ],
   "source": [
    "print(fruits[len(fruits) - 1])"
   ]
  },
  {
   "cell_type": "markdown",
   "metadata": {},
   "source": [
    "## İç İçe Listeler\n",
    "\n",
    "Python'da listeler iç içe oluşturulabilir."
   ]
  },
  {
   "cell_type": "code",
   "execution_count": 15,
   "metadata": {},
   "outputs": [
    {
     "name": "stdout",
     "output_type": "stream",
     "text": [
      "[[1, 2, 3], [3, 4, 5]]\n"
     ]
    }
   ],
   "source": [
    "liste1 = [1, 2, 3]\n",
    "liste2 = [3, 4, 5]\n",
    "tum_liste = [liste1, liste2]\n",
    "print(tum_liste)"
   ]
  },
  {
   "cell_type": "markdown",
   "metadata": {},
   "source": [
    "4 değerini seçmek için aşağıdaki komut kullanılır."
   ]
  },
  {
   "cell_type": "code",
   "execution_count": 16,
   "metadata": {},
   "outputs": [
    {
     "name": "stdout",
     "output_type": "stream",
     "text": [
      "4\n"
     ]
    }
   ],
   "source": [
    "print(tum_liste[1][1]) # 1. indekse sahip lisyeyi seç ve 1. indekse sahip elemanı getir."
   ]
  }
 ],
 "metadata": {
  "kernelspec": {
   "display_name": "Python 3",
   "language": "python",
   "name": "python3"
  },
  "language_info": {
   "codemirror_mode": {
    "name": "ipython",
    "version": 3
   },
   "file_extension": ".py",
   "mimetype": "text/x-python",
   "name": "python",
   "nbconvert_exporter": "python",
   "pygments_lexer": "ipython3",
   "version": "3.8.5"
  }
 },
 "nbformat": 4,
 "nbformat_minor": 4
}
