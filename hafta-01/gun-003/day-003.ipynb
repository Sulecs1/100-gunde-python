{
 "cells": [
  {
   "cell_type": "markdown",
   "metadata": {},
   "source": [
    "## Karşılaştırmalar\n",
    "\n",
    "Karşılaştırmalar hayatın her yerinde olduğu gibi programlama dünyasında da mecvutlar.\n",
    "\n",
    "Program akışı içerisinde şarta bağlı olarak akışı değiştirmek için karşılaştırma yapısı kullanılır.\n",
    "\n",
    "Python'da karşılaştırma yapıları if/else anahtar kelimeleri ile sağlanır.\n",
    "\n",
    "## if-else\n",
    "\n",
    "Eğer/Değilse anlamı taşımakla beraber en temel karşılaştırma yapısıdır.\n",
    "\n",
    "Örneğin bir lunaparkta hız tireni bileti sattığınızı düşünelim. Hız trenine binmenin şartı ise binecek kişinin 120 cm'den uzun olması olsun. Python'da bu şartı aşağıdaki şekilde oluşturabiliriz."
   ]
  },
  {
   "cell_type": "code",
   "execution_count": 3,
   "metadata": {},
   "outputs": [
    {
     "name": "stdout",
     "output_type": "stream",
     "text": [
      "Hız trenine hoş geldiniz!\n"
     ]
    },
    {
     "name": "stdin",
     "output_type": "stream",
     "text": [
      "Cm cinsinden boy uzunluğun nedir?  140\n"
     ]
    },
    {
     "name": "stdout",
     "output_type": "stream",
     "text": [
      "Hız trenine binebilirsin.\n"
     ]
    }
   ],
   "source": [
    "print(\"Hız trenine hoş geldiniz!\") # karşılama mesajı\n",
    "boy = int(input(\"Cm cinsinden boy uzunluğun nedir? \")) # kullanıcıdan veri alındı\n",
    "if boy >= 120: # eğer boy uzunluğu 120'den büyük ise\n",
    "    print(\"Hız trenine binebilirsin.\") # verilecek mesaj\n",
    "else: # boy uzunluğu 120'den büyük değil ise\n",
    "    print(\"Üzgünüm hız trenine binemezsin. Biraz boyun uzadıktan sonra yeniden gel.\") # verilecek mesaj"
   ]
  },
  {
   "cell_type": "markdown",
   "metadata": {},
   "source": [
    "3\\. satır incelendiğinde if anahtar kelimesi ile şart ifademizi belirtiyoruz.\n",
    "\n",
    "Söz konusu bu şart doğru olduğunda bir alt bloktaki işlem veya işlemleri gerçekleştiriyoruz.\n",
    "\n",
    "5\\. satır incelendiğinde 3. satırda belirtilen şart doğru olmadığı durumda çalışmaktadır.\n",
    "\n",
    "Python indentation (girinti) mantığı ile çalışır. \n",
    "\n",
    "**Girintiler:** karakteri ile tanımlanır ve bir alt satırın 4 boşluktan (1 tab boşluğu) başlamasını sağlar. `:` karakterini temsil ediyordur.\n",
    "\n",
    "Buna göre 4. satır if boy > 120 ifadesini, 6. satır ise else ifadesini temsil etmektedir."
   ]
  },
  {
   "cell_type": "markdown",
   "metadata": {},
   "source": [
    "## Karşılaştırma Operatörleri\n",
    "\n",
    "- \\>  --> Büyüktür\n",
    "- <  --> Küçüktür\n",
    "- \\>= --> Büyük veya eşittir\n",
    "- <= --> Küçük veya eşittir\n",
    "- == --> Eşittir\n",
    "- != --> Eşit değildir"
   ]
  },
  {
   "cell_type": "markdown",
   "metadata": {},
   "source": [
    "## İç içe karşılaştırma ve elif şartı oluşturma\n",
    "\n",
    "Bir önceki örneği detaylandıralım. Kişinin 120 cm'den uzun olduğu durumda:\n",
    "\n",
    "Eğer yaşı 12'den küçük ise 5₺, 12-18 yaş arasında ise 7₺ ve 18 yaşından büyük ise 12₺ ödemesi gerektiğini belirten programı yazalım."
   ]
  },
  {
   "cell_type": "code",
   "execution_count": 5,
   "metadata": {},
   "outputs": [
    {
     "name": "stdout",
     "output_type": "stream",
     "text": [
      "Hız trenine hoş geldiniz!\n"
     ]
    },
    {
     "name": "stdin",
     "output_type": "stream",
     "text": [
      "Cm cinsinden boy uzunluğun nedir?  150\n"
     ]
    },
    {
     "name": "stdout",
     "output_type": "stream",
     "text": [
      "Hız trenine binebilirsin.\n"
     ]
    },
    {
     "name": "stdin",
     "output_type": "stream",
     "text": [
      "Lütfen yaşınızı giriniz:  26\n"
     ]
    },
    {
     "name": "stdout",
     "output_type": "stream",
     "text": [
      "Bilet ücretiniz 12₺.\n"
     ]
    }
   ],
   "source": [
    "print(\"Hız trenine hoş geldiniz!\") \n",
    "boy = int(input(\"Cm cinsinden boy uzunluğun nedir? \"))\n",
    "if boy >= 120:\n",
    "    print(\"Hız trenine binebilirsin.\")\n",
    "    yas = int(input(\"Lütfen yaşınızı giriniz: \")) # kullanıcıdan veri alındı\n",
    "    if yas < 12: # eğer yaşı 12'den küçük ise\n",
    "        print(\"Bilet ücretiniz 5₺.\") # 5₺ ödemesi gerektiğini belirt.\n",
    "    elif yas <= 18: # eğer yaşı 12-18 yaşları arasında ise\n",
    "        print(\"Bilet ücretiniz 7₺.\") # 7₺ ödemesi gerektiğini belirt.\n",
    "    else: # yukarıdaki şartlardan hiçbiri değil ise\n",
    "        print(\"Bilet ücretiniz 12₺.\") # 12₺ ödemesi gerektiğini belirt.\n",
    "else:\n",
    "    print(\"Üzgünüm hız trenine binemezsin. Biraz boyun uzadıktan sonra yeniden gel.\")"
   ]
  },
  {
   "cell_type": "markdown",
   "metadata": {},
   "source": [
    "Python'de iç içe şartlar oluşturulabilir. Buradaki örnekte ödenecek bilet parasını belirtmek için birden fazla yaş seçeneğini karar yapısı olarak sorgulayabiliyoruz.\n",
    "\n",
    "if-else yapısında şartımız bir tane olmasıyla beraber birden fazla şartın olduğu karşılaştırmalarda if-elif-else yapısı kullanılır. else hiç değilse anlamını taşır ve if ile else ifadeleri arasında birden fazla else ifadesi gelebilir."
   ]
  },
  {
   "cell_type": "markdown",
   "metadata": {},
   "source": [
    "## Çoku Karşılaştırmalar\n",
    "\n",
    "Program akışı içerisinde birden fazla karşılaştırma işlemleri yapılabilir. Her bir if-else yapısı alınan karşılaştırmalar 1 karşılaştırma olarak yazılabilir.\n",
    "\n",
    "Örneğimize devam edelim ve kişi 3₺'lik ek ücret karşılığında hız trenindeyken fotoğraf çektirmek isteyip istemediğini soran karşılaştırmayı oluşturalım."
   ]
  },
  {
   "cell_type": "code",
   "execution_count": 6,
   "metadata": {},
   "outputs": [
    {
     "name": "stdout",
     "output_type": "stream",
     "text": [
      "Hız trenine hoş geldiniz!\n"
     ]
    },
    {
     "name": "stdin",
     "output_type": "stream",
     "text": [
      "Cm cinsinden boy uzunluğun nedir?  160\n"
     ]
    },
    {
     "name": "stdout",
     "output_type": "stream",
     "text": [
      "Hız trenine binebilirsin.\n"
     ]
    },
    {
     "name": "stdin",
     "output_type": "stream",
     "text": [
      "Lütfen yaşınızı giriniz:  20\n"
     ]
    },
    {
     "name": "stdout",
     "output_type": "stream",
     "text": [
      "Yetişkin bileti 12₺.\n"
     ]
    },
    {
     "name": "stdin",
     "output_type": "stream",
     "text": [
      "Hız treninde bulunduğunuz anı oluşturmak ister misiniz? E. veya H. H\n"
     ]
    },
    {
     "name": "stdout",
     "output_type": "stream",
     "text": [
      "Toplam hesabınız 12₺ olarak belirlendi.\n"
     ]
    }
   ],
   "source": [
    "print(\"Hız trenine hoş geldiniz!\") \n",
    "boy = int(input(\"Cm cinsinden boy uzunluğun nedir? \"))\n",
    "hesap = 0 # toplam hesap değeri oluşturuldu.\n",
    "if boy >= 120:\n",
    "    print(\"Hız trenine binebilirsin.\")\n",
    "    yas = int(input(\"Lütfen yaşınızı giriniz: \"))\n",
    "    \n",
    "    # Karşılaştırma yapısı 1\n",
    "    if yas < 12:\n",
    "        hesap = 5\n",
    "        print(\"Çocuk bileti 5₺.\")\n",
    "    elif yas <= 18:\n",
    "        hesap = 7\n",
    "        print(\"Öğrenci bileti 7₺.\")\n",
    "    else:\n",
    "        hesap = 12\n",
    "        print(\"Yetişkin bileti 12₺.\")\n",
    "    \n",
    "    foto_istegi = input(\"Hız treninde bulunduğunuz anı oluşturmak ister misiniz? E. veya H.\") # kullanıcıdan veri alındı\n",
    "    \n",
    "    # Karşılaştırma yapısı 2\n",
    "    if foto_istegi == \"E\": # eğer cevap evet ise 3₺ ekle\n",
    "        hesap += 3 # hesap = hesap + 3 (Unutmayın! Önce işlem, sonra atama)\n",
    "\n",
    "    print(f\"Toplam hesabınız {hesap}₺ olarak belirlendi.\") # toplam hesap yazdırıldı\n",
    "else:\n",
    "    print(\"Üzgünüm hız trenine binemezsin. Biraz boyun uzadıktan sonra yeniden gel.\")"
   ]
  },
  {
   "cell_type": "markdown",
   "metadata": {},
   "source": [
    "Bu programda iki adet karşılaştırma yapısı kuruluyor olup 1. karşılaştırma yapısı çağrıldıktan sonra 2. karşılaştırma yapısı çağrılmaktadır. Bu çözüm problemimize yönelik çözümdür."
   ]
  },
  {
   "cell_type": "markdown",
   "metadata": {},
   "source": [
    "## Mantıksal Operatör\n",
    "\n",
    "Bir karar yapısı İÇERİSİNDE birden fazla ŞART olabilir.\n",
    "\n",
    "Örneğimize devam edelim ve 45-55 yaş arasında olan kişilere bilet ücretinin alınmadığı özel bir günde olduğumuzu varsayarak toplam hesabı yeniden oluşturalım."
   ]
  },
  {
   "cell_type": "code",
   "execution_count": 7,
   "metadata": {},
   "outputs": [
    {
     "name": "stdout",
     "output_type": "stream",
     "text": [
      "Hız trenine hoş geldiniz!\n"
     ]
    },
    {
     "name": "stdin",
     "output_type": "stream",
     "text": [
      "Cm cinsinden boy uzunluğun nedir?  148\n"
     ]
    },
    {
     "name": "stdout",
     "output_type": "stream",
     "text": [
      "Hız trenine binebilirsin.\n"
     ]
    },
    {
     "name": "stdin",
     "output_type": "stream",
     "text": [
      "Lütfen yaşınızı giriniz:  48\n"
     ]
    },
    {
     "name": "stdout",
     "output_type": "stream",
     "text": [
      "Bugün özel bir gün! Sizlere bilet ücreti yok!\n"
     ]
    },
    {
     "name": "stdin",
     "output_type": "stream",
     "text": [
      "Hız treninde bulunduğunuz anı oluşturmak ister misiniz? E. veya H. E\n"
     ]
    },
    {
     "name": "stdout",
     "output_type": "stream",
     "text": [
      "Toplam hesabınız 3₺ olarak belirlendi.\n"
     ]
    }
   ],
   "source": [
    "print(\"Hız trenine hoş geldiniz!\") \n",
    "boy = int(input(\"Cm cinsinden boy uzunluğun nedir? \"))\n",
    "hesap = 0\n",
    "if boy >= 120:\n",
    "    print(\"Hız trenine binebilirsin.\")\n",
    "    yas = int(input(\"Lütfen yaşınızı giriniz: \"))\n",
    "    if yas < 12:\n",
    "        hesap = 5\n",
    "        print(\"Çocuk bileti 5₺.\")\n",
    "    elif yas <= 18:\n",
    "        hesap = 7\n",
    "        print(\"Öğrenci bileti 7₺.\")\n",
    "    elif yas >= 45 and yas <= 55: # 45-55 yaş arasında ise ücretsiz!\n",
    "        print(\"Bugün özel bir gün! Sizlere bilet ücreti yok!\")\n",
    "    else:\n",
    "        hesap = 12\n",
    "        print(\"Yetişkin bileti 12₺.\")\n",
    "    \n",
    "    foto_istegi = input(\"Hız treninde bulunduğunuz anı oluşturmak ister misiniz? E. veya H.\")\n",
    "\n",
    "    if foto_istegi == \"E\": \n",
    "        hesap += 3\n",
    "\n",
    "    print(f\"Toplam hesabınız {hesap}₺ olarak belirlendi.\")\n",
    "else:\n",
    "    print(\"Üzgünüm hız trenine binemezsin. Biraz boyun uzadıktan sonra yeniden gel.\")"
   ]
  },
  {
   "cell_type": "markdown",
   "metadata": {},
   "source": [
    "13\\. satır incelendiğinde birden fazla şart ile oluşturulan bir karşılaştırma işlemi görülmektedir. Python'da birden fazla şart ile karşılaştırma ifadesi oluşturmak için mantıksal operatörler kullanılır.\n",
    "\n",
    "- and --> ve    --> İki değeri \"doğru\" olduğu durumda \"doğru\", diğer durumlarda \"yanlış\" değerine sahip olmayı sağlayan operatördür.\n",
    "- or  --> veya  --> İki değeri \"yanlış\" olduğu durumda \"yanlış\", diğer durumlarda \"doğru\" değerine sahip olmayı sağlayan operatördür.\n",
    "- not --> değil --> \"Doğru\" değerin \"yanlış\", \"yanlış\" olan değerin \"doğru\" değerine sahip olmayı sağlayan operatördür."
   ]
  },
  {
   "cell_type": "markdown",
   "metadata": {},
   "source": [
    "## Mini Projeler"
   ]
  },
  {
   "cell_type": "markdown",
   "metadata": {},
   "source": [
    "### Mini Proje 1 - BKİ v1\n",
    "\n",
    "Bu projede amaç, kişinin beden kitle indeksini bulmak. Bunu yapmak için kişinin kg cinsinden kilo değerini ve m cinsidinden de boy değerini almamız yeterlidir."
   ]
  },
  {
   "cell_type": "code",
   "execution_count": 9,
   "metadata": {},
   "outputs": [
    {
     "name": "stdin",
     "output_type": "stream",
     "text": [
      "enter your height in m:  1.66\n",
      "enter your weight in kg:  89\n"
     ]
    },
    {
     "name": "stdout",
     "output_type": "stream",
     "text": [
      "Your BMI is 32, you are obese.\n"
     ]
    }
   ],
   "source": [
    "height = float(input(\"enter your height in m: \"))\n",
    "weight = float(input(\"enter your weight in kg: \"))\n",
    "\n",
    "bmi = round(weight / (height ** 2))\n",
    "\n",
    "if bmi < 18.5:\n",
    "    print(f\"Your BMI is {bmi}, you are underweight.\")\n",
    "elif bmi < 25:\n",
    "    print(f\"Your BMI is {bmi}, you have a normal weight.\")\n",
    "elif bmi < 30:\n",
    "    print(f\"Your BMI is {bmi}, you are slightly overweight.\")\n",
    "elif bmi < 35:\n",
    "    print(f\"Your BMI is {bmi}, you are obese.\")\n",
    "else:\n",
    "    print(f\"Your BMI is {bmi}, you are clinically obese.\")"
   ]
  },
  {
   "cell_type": "markdown",
   "metadata": {},
   "source": [
    "### Mini Proje 2 - Artık Yıl\n",
    "\n",
    "Burada amaç girilen yılın artık yıl olup olmadığını sorgulamak. Artık yıl için [buradaki linke](https://tr.wikipedia.org/wiki/Art%C4%B1k_y%C4%B1l) tıklayabilirsiniz."
   ]
  },
  {
   "cell_type": "code",
   "execution_count": 10,
   "metadata": {},
   "outputs": [
    {
     "name": "stdin",
     "output_type": "stream",
     "text": [
      "Which year do you want to check?  2020\n"
     ]
    },
    {
     "name": "stdout",
     "output_type": "stream",
     "text": [
      "Leap year.\n"
     ]
    }
   ],
   "source": [
    "year = int(input(\"Which year do you want to check? \"))\n",
    "\n",
    "if year % 4 == 0:\n",
    "    if year % 100 == 0:\n",
    "        if year % 400 == 0:\n",
    "            print(\"Leap year.\")\n",
    "        else:\n",
    "            print(\"Not leap year.\")\n",
    "    else:\n",
    "        print(\"Leap year.\")\n",
    "else:\n",
    "    print(\"Not leap year.\")"
   ]
  },
  {
   "cell_type": "markdown",
   "metadata": {},
   "source": [
    "### Mini Proje 3 - Pizza Sipariş Sistemi\n",
    "\n",
    "Bu projede amaç basit anlamda pizza sipariş sistemi yazmak."
   ]
  },
  {
   "cell_type": "code",
   "execution_count": 11,
   "metadata": {},
   "outputs": [
    {
     "name": "stdout",
     "output_type": "stream",
     "text": [
      "Welcome to Python Pizza Deliveries!\n"
     ]
    },
    {
     "name": "stdin",
     "output_type": "stream",
     "text": [
      "What size pizza do you want? S, M, or L  S\n",
      "Do you want pepperoni? Y or N  N\n",
      "Do you want extra cheese? Y or N  N\n"
     ]
    },
    {
     "name": "stdout",
     "output_type": "stream",
     "text": [
      "Your final bill is: $15.\n"
     ]
    }
   ],
   "source": [
    "print(\"Welcome to Python Pizza Deliveries!\")\n",
    "size = input(\"What size pizza do you want? S, M, or L \")\n",
    "add_pepperoni = input(\"Do you want pepperoni? Y or N \")\n",
    "extra_cheese = input(\"Do you want extra cheese? Y or N \")\n",
    "\n",
    "bill = 0\n",
    "\n",
    "if size == \"S\":\n",
    "    bill = 15\n",
    "    if add_pepperoni == \"Y\":\n",
    "        bill += 2\n",
    "    \n",
    "    if extra_cheese == \"Y\":\n",
    "        bill += 1\n",
    "elif size == \"M\":\n",
    "    bill = 20\n",
    "    if add_pepperoni == \"Y\":\n",
    "        bill += 3\n",
    "    \n",
    "    if extra_cheese == \"Y\":\n",
    "        bill += 1\n",
    "elif size == \"L\":\n",
    "    bill = 25\n",
    "    if add_pepperoni == \"Y\":\n",
    "        bill += 3\n",
    "    \n",
    "    if extra_cheese == \"Y\":\n",
    "        bill += 1\n",
    "\n",
    "print(f\"Your final bill is: ${bill}.\")"
   ]
  },
  {
   "cell_type": "markdown",
   "metadata": {},
   "source": [
    "### Mini Proje 4 - TRUE LOVE Kelimeleri ile Aşk Sayacı\n",
    "\n",
    "Burada amaç ismi girilen iki kişinin TRUE LOVE kelimelerini barındırıp barındırmadıklarını hesaplayan bir program geliştirmek."
   ]
  },
  {
   "cell_type": "code",
   "execution_count": 12,
   "metadata": {},
   "outputs": [
    {
     "name": "stdout",
     "output_type": "stream",
     "text": [
      "Welcome to the Love Calculator!\n"
     ]
    },
    {
     "name": "stdin",
     "output_type": "stream",
     "text": [
      "What is your name? \n",
      " Angela\n",
      "What is their name? \n",
      " Jack\n"
     ]
    },
    {
     "name": "stdout",
     "output_type": "stream",
     "text": [
      "Your score is 12.\n"
     ]
    }
   ],
   "source": [
    "print(\"Welcome to the Love Calculator!\")\n",
    "name1 = input(\"What is your name? \\n\")\n",
    "name2 = input(\"What is their name? \\n\")\n",
    "\n",
    "t = name1.lower().count(\"t\") + name2.lower().count(\"t\")\n",
    "r = name1.lower().count(\"r\") + name2.lower().count(\"r\")\n",
    "u = name1.lower().count(\"u\") + name2.lower().count(\"u\")\n",
    "e = name1.lower().count(\"e\") + name2.lower().count(\"e\")\n",
    "l = name1.lower().count(\"l\") + name2.lower().count(\"l\")\n",
    "o = name1.lower().count(\"o\") + name2.lower().count(\"o\")\n",
    "v = name1.lower().count(\"v\") + name2.lower().count(\"v\")\n",
    "\n",
    "true_total = t + r + u + e\n",
    "love_total = l + o + v + e\n",
    "\n",
    "true_love_total = int(str(true_total) + str(love_total))\n",
    "\n",
    "if true_love_total < 10 or true_love_total > 90:\n",
    "    print(f\"Your score is {true_love_total}, you go together like coke and mentos.\")\n",
    "elif 40 <= true_love_total <= 50:\n",
    "    print(f\"Your score is {true_love_total}, you are alright together.\")\n",
    "else:\n",
    "    print(f\"Your score is {true_love_total}.\")"
   ]
  }
 ],
 "metadata": {
  "kernelspec": {
   "display_name": "Python 3",
   "language": "python",
   "name": "python3"
  },
  "language_info": {
   "codemirror_mode": {
    "name": "ipython",
    "version": 3
   },
   "file_extension": ".py",
   "mimetype": "text/x-python",
   "name": "python",
   "nbconvert_exporter": "python",
   "pygments_lexer": "ipython3",
   "version": "3.8.5"
  }
 },
 "nbformat": 4,
 "nbformat_minor": 4
}
