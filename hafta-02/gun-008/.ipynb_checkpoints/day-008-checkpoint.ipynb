{
 "cells": [
  {
   "cell_type": "markdown",
   "metadata": {},
   "source": [
    "# Fonksiyonların Değer Alması"
   ]
  },
  {
   "cell_type": "code",
   "execution_count": 1,
   "metadata": {},
   "outputs": [],
   "source": [
    "# argümansız fonksiyonlar\n",
    "def greet():\n",
    "    print(\"Hello\")\n",
    "    print(\"How do you do?\")"
   ]
  },
  {
   "cell_type": "code",
   "execution_count": 2,
   "metadata": {},
   "outputs": [
    {
     "name": "stdout",
     "output_type": "stream",
     "text": [
      "Hello\n",
      "How do you do?\n"
     ]
    }
   ],
   "source": [
    "greet()"
   ]
  },
  {
   "cell_type": "code",
   "execution_count": 3,
   "metadata": {},
   "outputs": [],
   "source": [
    "# argümanlı fonksiyonlar\n",
    "def greet_with_input(name):\n",
    "    print(f\"Hello {name}\")\n",
    "    print(f\"How do you do {name}?\")"
   ]
  },
  {
   "cell_type": "code",
   "execution_count": 4,
   "metadata": {},
   "outputs": [
    {
     "name": "stdout",
     "output_type": "stream",
     "text": [
      "Hello Cemal\n",
      "How do you do Cemal?\n"
     ]
    }
   ],
   "source": [
    "greet_with_input(\"Cemal\")"
   ]
  },
  {
   "cell_type": "markdown",
   "metadata": {},
   "source": [
    "Basit anlamda fonksiyonlar parantez içerisinde bir şey olmadan çalışabilirler. Aynı şekilde içerisine veri eklendiğinde de çalışabilirler.\n",
    "\n",
    "Burada `name` isimli değişkene **parametre**, `\"Cemal\"` isimli değere de **argüman** adı veririz. Fonksiyonlar parametreler sayesinde argüman alabilirler."
   ]
  },
  {
   "cell_type": "code",
   "execution_count": 5,
   "metadata": {},
   "outputs": [],
   "source": [
    "def greet_with(name, location):\n",
    "    print(f\"Hello {name}\")\n",
    "    print(f\"What is it like in {location}\")"
   ]
  },
  {
   "cell_type": "code",
   "execution_count": 6,
   "metadata": {},
   "outputs": [
    {
     "name": "stdout",
     "output_type": "stream",
     "text": [
      "Hello Cemal\n",
      "What is it like in Ankara\n"
     ]
    }
   ],
   "source": [
    "greet_with(\"Cemal\", \"Ankara\") # positional arguments"
   ]
  },
  {
   "cell_type": "markdown",
   "metadata": {},
   "source": [
    "Burada dikkat edilmesi gereken nokta parametrelere verilen argüman değerlerinin sırayla veriliyor olması.\n",
    "\n",
    "Bu duruma **sıralı argüman (positional arguments)** tanımı deniniyor. Sıralı parametrelere farklı sıralarda argüman verilirse hata olabilme ihtimali yükselir. Bu durumda **anahtar kelimeli (keyword arguments)** argüman tanımı geliyor."
   ]
  },
  {
   "cell_type": "code",
   "execution_count": 7,
   "metadata": {},
   "outputs": [
    {
     "name": "stdout",
     "output_type": "stream",
     "text": [
      "Hello Cemal\n",
      "What is it like in Ankara\n"
     ]
    }
   ],
   "source": [
    "greet_with(location=\"Ankara\", name=\"Cemal\") # keyword arguments"
   ]
  },
  {
   "cell_type": "markdown",
   "metadata": {},
   "source": [
    "Anahtar kelimeli argümanda parametre isminin yazılması gerekiyor. Bu sayede hangi sırada yazılsın argümanlar doğru parametreleri bulabiliyor."
   ]
  },
  {
   "cell_type": "markdown",
   "metadata": {},
   "source": [
    "## Mini Proje 1 - Asal Sayı Kontolü\n",
    "\n",
    "Kullanıcıdan girilen bir tam sayının asal olup olmadığına karar veren bir program yazın."
   ]
  },
  {
   "cell_type": "code",
   "execution_count": 8,
   "metadata": {},
   "outputs": [
    {
     "name": "stdin",
     "output_type": "stream",
     "text": [
      "Check this number:  32\n"
     ]
    },
    {
     "name": "stdout",
     "output_type": "stream",
     "text": [
      "It's not a prime number.\n"
     ]
    }
   ],
   "source": [
    "def prime_checker(number):\n",
    "    is_prime = True # asal doğru\n",
    "    for num in range(2, number):\n",
    "        if number % num == 0:\n",
    "            is_prime = False # asal yanlış\n",
    "    if is_prime:\n",
    "        print(\"It's a prime number.\")\n",
    "    else:\n",
    "        print(\"It's not a prime number.\")\n",
    "    \n",
    "n = int(input(\"Check this number: \"))\n",
    "prime_checker(number=n)"
   ]
  },
  {
   "cell_type": "markdown",
   "metadata": {},
   "source": [
    "# Proje - Sezar Şifresi\n",
    "\n",
    "Bu projede basit anlamda bir mesaj şifreleyici yazdık. Şifreleme yönteminde ise [Sezar Şifresi](https://tr.wikipedia.org/wiki/Sezar_%C5%9Fifrelemesi) seçtik. Aşama aşama paylaştığım bu uyugulamayı `caesar.py` dosyasında derli toplu bulabilirsiniz."
   ]
  },
  {
   "cell_type": "markdown",
   "metadata": {},
   "source": [
    "## Aşama 1"
   ]
  },
  {
   "cell_type": "code",
   "execution_count": 10,
   "metadata": {},
   "outputs": [
    {
     "name": "stdin",
     "output_type": "stream",
     "text": [
      "Type 'encode' to encrypt, type 'decode' to decrypt:\n",
      " encode\n",
      "Type your message:\n",
      " civilization\n",
      "Type the shift number:\n",
      " 5\n"
     ]
    },
    {
     "name": "stdout",
     "output_type": "stream",
     "text": [
      "The encoded text in hnanqnwfynts\n"
     ]
    }
   ],
   "source": [
    "alphabet = ['a', 'b', 'c', 'd', 'e', 'f', 'g', 'h', 'i', 'j', 'k', 'l', 'm', 'n', 'o', 'p', 'q', 'r', 's', 't', 'u', 'v', 'w', 'x', 'y', 'z']\n",
    "\n",
    "direction = input(\"Type 'encode' to encrypt, type 'decode' to decrypt:\\n\").lower()\n",
    "text = input(\"Type your message:\\n\").lower()\n",
    "shift = int(input(\"Type the shift number:\\n\"))\n",
    "\n",
    "# TODO-1: 'encrypt' adında bir fonksiyon oluştur ve içerisine 'text' ve 'shift' değerleri alabilsin.\n",
    "\n",
    "\n",
    "def encrypt(plain_text, shift_amount):\n",
    "    \n",
    "    # TODO-2: 'encrypt' fonksiyon içerisinde herbir metni alphabet listesindeki harfleri baz alarak \n",
    "    # shift amount değerine göre ötele ve şifrelenmiş mesajı yazdır.\n",
    "\n",
    "    # Örnek: \n",
    "    # plain_text = \"hello\"\n",
    "    # shift = 5\n",
    "    # cipher_text = \"mjqqt\"\n",
    "    # print output: \"The encoded text is mjqqt\"\n",
    "    \n",
    "    # 🐛Bug alarmı: 'civilization' kelimesindeki hatayı nasıl çözersiniz?🐛\n",
    "\n",
    "    chiper_text = \"\"\n",
    "\n",
    "    for letter in plain_text:\n",
    "        if alphabet.index(letter) + shift_amount < len(alphabet):\n",
    "            chiper_text += alphabet[alphabet.index(letter) + shift_amount]\n",
    "        else:\n",
    "            chiper_text += alphabet[len(alphabet) - (alphabet.index(letter) + shift_amount)]\n",
    "    \n",
    "    print(f\"The encoded text in {chiper_text}\")\n",
    "\n",
    "    \n",
    "\n",
    "# TODO-3: Fonksiyonu çağırın ve test edin.\n",
    "\n",
    "if direction == \"encode\":\n",
    "    encrypt(plain_text=text, shift_amount=shift)"
   ]
  },
  {
   "cell_type": "markdown",
   "metadata": {},
   "source": [
    "## Aşama 2"
   ]
  },
  {
   "cell_type": "code",
   "execution_count": 11,
   "metadata": {},
   "outputs": [
    {
     "name": "stdin",
     "output_type": "stream",
     "text": [
      "Type 'encode' to encrypt, type 'decode' to decrypt:\n",
      " decode\n",
      "Type your message:\n",
      " mjqqt\n",
      "Type the shift number:\n",
      " 5\n"
     ]
    },
    {
     "name": "stdout",
     "output_type": "stream",
     "text": [
      "The decoded text is hello\n"
     ]
    }
   ],
   "source": [
    "alphabet = ['a', 'b', 'c', 'd', 'e', 'f', 'g', 'h', 'i', 'j', 'k', 'l', 'm', 'n', 'o', 'p', 'q', 'r', 's', 't', 'u', 'v', 'w', 'x', 'y', 'z', 'a', 'b', 'c', 'd', 'e', 'f', 'g', 'h', 'i', 'j', 'k', 'l', 'm', 'n', 'o', 'p', 'q', 'r', 's', 't', 'u', 'v', 'w', 'x', 'y', 'z']\n",
    "\n",
    "direction = input(\"Type 'encode' to encrypt, type 'decode' to decrypt:\\n\").lower()\n",
    "text = input(\"Type your message:\\n\").lower()\n",
    "shift = int(input(\"Type the shift number:\\n\"))\n",
    "\n",
    "def encrypt(plain_text, shift_amount):\n",
    "    cipher_text = \"\"\n",
    "    for letter in plain_text:\n",
    "        position = alphabet.index(letter)\n",
    "        new_position = position + shift_amount\n",
    "        cipher_text += alphabet[new_position]\n",
    "    print(f\"The encoded text is {cipher_text}\")\n",
    "\n",
    "#TODO-1: 'decrypt' adında bir fonksiyon oluştur ve içerisine 'text' ve 'shift' değerleri alabilsin.\n",
    "\n",
    "def decrypt(cipher_text, shift_amount):\n",
    "    #TODO-2: 'decrypt' fonksiyon içerisinde herbir metni alphabet listesindeki harfleri baz alarak \n",
    "    # shift amount değerine göre geriye ötele ve şifrelenmiş mesajı yazdır.  \n",
    "    \n",
    "    # Örneğin \n",
    "    # cipher_text = \"mjqqt\"\n",
    "    # shift = 5\n",
    "    # plain_text = \"hello\"\n",
    "    # print output: \"The decoded text is hello\"\n",
    "    \n",
    "    plain_text = \"\"\n",
    "    for letter in cipher_text:\n",
    "        plain_text += alphabet[alphabet.index(letter) - shift_amount]\n",
    "    print(f\"The decoded text is {plain_text}\")\n",
    "\n",
    "# TODO-3: direction değişken değerini encode veye decode olarak sorgula ve fonksiyonları seçilen şarta göre çalıştır.\n",
    "if direction == \"encode\":\n",
    "    encrypt(plain_text=text, shift_amount=shift)\n",
    "elif direction == \"decode\":\n",
    "    decrypt(cipher_text=text, shift_amount=shift)"
   ]
  },
  {
   "cell_type": "markdown",
   "metadata": {},
   "source": [
    "# Aşama 3"
   ]
  },
  {
   "cell_type": "code",
   "execution_count": 12,
   "metadata": {},
   "outputs": [
    {
     "name": "stdin",
     "output_type": "stream",
     "text": [
      "Type 'encode' to encrypt, type 'decode' to decrypt:\n",
      " encode\n",
      "Type your message:\n",
      " hello\n",
      "Type the shift number:\n",
      " 5\n"
     ]
    },
    {
     "name": "stdout",
     "output_type": "stream",
     "text": [
      "Here's the encode result: mjqqt\n"
     ]
    }
   ],
   "source": [
    "alphabet = ['a', 'b', 'c', 'd', 'e', 'f', 'g', 'h', 'i', 'j', 'k', 'l', 'm', 'n', 'o', 'p', 'q', 'r', 's', 't', 'u', 'v', 'w', 'x', 'y', 'z', 'a', 'b', 'c', 'd', 'e', 'f', 'g', 'h', 'i', 'j', 'k', 'l', 'm', 'n', 'o', 'p', 'q', 'r', 's', 't', 'u', 'v', 'w', 'x', 'y', 'z']\n",
    "\n",
    "direction = input(\"Type 'encode' to encrypt, type 'decode' to decrypt:\\n\").lower()\n",
    "text = input(\"Type your message:\\n\").lower()\n",
    "shift = int(input(\"Type the shift number:\\n\"))\n",
    "\n",
    "#TODO-1: encrypt() ve decrypt() fonskiyonlarını caesar() fonksiyonu olarak birleştir.\n",
    "\n",
    "def caesar(start_text, shift_amount, cipher_direction):\n",
    "    end_text = \"\"\n",
    "    if cipher_direction == \"decode\":\n",
    "        shift_amount *= -1 # işlem decode ise shit değerini negatif yap\n",
    "    for letter in start_text:\n",
    "        position = alphabet.index(letter)\n",
    "        new_position = position + shift_amount\n",
    "        end_text += alphabet[new_position]\n",
    "    print(f\"Here's the {cipher_direction} result: {end_text}\")\n",
    "\n",
    "\n",
    "#TODO-2: caesar() fonksiyonunu çağır.\n",
    "caesar(start_text=text, shift_amount=shift, cipher_direction=direction)"
   ]
  },
  {
   "cell_type": "markdown",
   "metadata": {},
   "source": [
    "# Aşama 4"
   ]
  },
  {
   "cell_type": "code",
   "execution_count": 17,
   "metadata": {},
   "outputs": [
    {
     "name": "stdout",
     "output_type": "stream",
     "text": [
      "           \n",
      " ,adPPYba, ,adPPYYba,  ,adPPYba, ,adPPYba, ,adPPYYba, 8b,dPPYba,  \n",
      "a8\"     \"\" \"\"     `Y8 a8P_____88 I8[    \"\" \"\"     `Y8 88P'   \"Y8  \n",
      "8b         ,adPPPPP88 8PP\"  `\"Y8ba,  ,adPPPPP88 88          \n",
      "\"8a,   ,aa 88,    ,88 \"8b,   ,aa aa    ]8I 88,    ,88 88          \n",
      " `\"Ybbd8\"' `\"8bbdP\"Y8  `\"Ybbd8\"' `\"YbbdP\"' `\"8bbdP\"Y8 88   \n",
      "            88             88                                 \n",
      "           \"\"             88                                 \n",
      "                          88                                 \n",
      " ,adPPYba, 88 8b,dPPYba,  88,dPPYba,   ,adPPYba, 8b,dPPYba,  \n",
      "a8\"     \"\" 88 88P'    \"8a 88P'    \"8a a8P_____88 88P'   \"Y8  \n",
      "8b         88 88       d8 88       88 8PP\" 88          \n",
      "\"8a,   ,aa 88 88b,   ,a8\" 88       88 \"8b,   ,aa 88          \n",
      " `\"Ybbd8\"' 88 88`YbbdP\"'  88       88  `\"Ybbd8\"' 88          \n",
      "              88                                             \n",
      "              88           \n",
      "\n"
     ]
    },
    {
     "name": "stdin",
     "output_type": "stream",
     "text": [
      "Type 'encode' to encrypt, type 'decode' to decrypt:\n",
      " encode\n",
      "Type your message:\n",
      " hello\n",
      "Type the shift number:\n",
      " 45\n"
     ]
    },
    {
     "name": "stdout",
     "output_type": "stream",
     "text": [
      "Here's the encoded result: axeeh\n"
     ]
    },
    {
     "name": "stdin",
     "output_type": "stream",
     "text": [
      "Type 'yes' if you want to go again. Otherwise type 'no' no\n"
     ]
    }
   ],
   "source": [
    "import art\n",
    "\n",
    "alphabet = ['a', 'b', 'c', 'd', 'e', 'f', 'g', 'h', 'i', 'j', 'k', 'l', 'm', 'n', 'o', 'p', 'q', 'r', 's', 't', 'u',\n",
    "            'v', 'w', 'x', 'y', 'z', 'a', 'b', 'c', 'd', 'e', 'f', 'g', 'h', 'i', 'j', 'k', 'l', 'm', 'n', 'o', 'p',\n",
    "            'q', 'r', 's', 't', 'u', 'v', 'w', 'x', 'y', 'z']\n",
    "\n",
    "\n",
    "def caesar(start_text, shift_amount, cipher_direction):\n",
    "    end_text = \"\"\n",
    "    if cipher_direction == \"decode\":\n",
    "        shift_amount *= -1\n",
    "    for char in start_text:\n",
    "        # TODO-3: Kullanıcı numara/sembol/boşluk girdiğinde nasıl gözardı edebilirsin?\n",
    "        # Kullanıcı harf haricinde girdiği bütün karakterleri görmezden gel.\n",
    "        \n",
    "        # Örneğin\n",
    "        # start_text = \"meet me at 3\"\n",
    "        # end_text = \"•••• •• •• 3\"\n",
    "        \n",
    "        if char in alphabet:\n",
    "            position = alphabet.index(char)\n",
    "            new_position = position + shift_amount\n",
    "            \n",
    "            # TODO-2: Kullanıcı listedeki eleman sayısından fazla shift değeri girer ise ne olur?\n",
    "            # Örnek olarak 45 değerini deneyebilirsiniz.\n",
    "            # İpucu: mod alma operatörü size yardımcı olabilir.\n",
    "            \n",
    "            if new_position >= len(alphabet):\n",
    "                new_position %= len(alphabet)\n",
    "            \n",
    "            end_text += alphabet[new_position]\n",
    "        else:\n",
    "            end_text += char\n",
    "\n",
    "    print(f\"Here's the {cipher_direction}d result: {end_text}\")\n",
    "\n",
    "\n",
    "# TODO-1: Program başlangıcında logoyu yazdır.\n",
    "print(art.logo)\n",
    "\n",
    "# TODO-4: Kullanıcıya sorark sürekli programın çalışmasını sağlayabilir misin?\n",
    "# Örneğin kullanıcı yes yazdığında program tekrardan çalışsın no yazdığında program sonlansın.\n",
    "\n",
    "restart = True\n",
    "\n",
    "while restart:\n",
    "    direction = input(\"Type 'encode' to encrypt, type 'decode' to decrypt:\\n\").lower()\n",
    "    text = input(\"Type your message:\\n\").lower()\n",
    "    shift = int(input(\"Type the shift number:\\n\"))\n",
    "\n",
    "    caesar(start_text=text, shift_amount=shift, cipher_direction=direction)\n",
    "    \n",
    "    answer = input(\"Type 'yes' if you want to go again. Otherwise type 'no'\")\n",
    "    if answer == \"no\":\n",
    "        restart = False"
   ]
  }
 ],
 "metadata": {
  "kernelspec": {
   "display_name": "Python 3",
   "language": "python",
   "name": "python3"
  },
  "language_info": {
   "codemirror_mode": {
    "name": "ipython",
    "version": 3
   },
   "file_extension": ".py",
   "mimetype": "text/x-python",
   "name": "python",
   "nbconvert_exporter": "python",
   "pygments_lexer": "ipython3",
   "version": "3.8.5"
  }
 },
 "nbformat": 4,
 "nbformat_minor": 4
}
