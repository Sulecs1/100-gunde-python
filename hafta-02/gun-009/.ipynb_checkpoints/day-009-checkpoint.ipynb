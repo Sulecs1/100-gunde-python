{
 "cells": [
  {
   "cell_type": "markdown",
   "metadata": {},
   "source": [
    "# Sözlükler\n",
    "\n",
    "Python'da sözlükler sözlüğe benzer.\n",
    "\n",
    "{anahtar: değer} şeklinde tanımlanır.\n",
    "\n",
    "{anahtar1: değer1, anahtar2: değer2} şeklinde birden fazla kez yazılabilir."
   ]
  },
  {
   "cell_type": "code",
   "execution_count": 1,
   "metadata": {},
   "outputs": [
    {
     "name": "stdout",
     "output_type": "stream",
     "text": [
      "{'isim': 'Cemal'}\n"
     ]
    }
   ],
   "source": [
    "# Tek değerli bir sözlük oluşturma\n",
    "rehber = {\"isim\": \"Cemal\"}\n",
    "print(rehber)"
   ]
  },
  {
   "cell_type": "code",
   "execution_count": 6,
   "metadata": {},
   "outputs": [
    {
     "name": "stdout",
     "output_type": "stream",
     "text": [
      "{'isim': 'Cemal', 'soyisim': 'Cici', 'yaşadığı yer': 'Trabzon'}\n"
     ]
    }
   ],
   "source": [
    "# Birden fazla değerli sözlük oluşturma\n",
    "rehber = {\n",
    "    \"isim\": \"Cemal\",\n",
    "    \"soyisim\": \"Cici\",\n",
    "    \"yaşadığı yer\": \"Trabzon\"\n",
    "}\n",
    "print(rehber)"
   ]
  },
  {
   "cell_type": "code",
   "execution_count": 7,
   "metadata": {},
   "outputs": [
    {
     "name": "stdout",
     "output_type": "stream",
     "text": [
      "Cici\n"
     ]
    }
   ],
   "source": [
    "# Sözlük değerini yazdırma\n",
    "print(rehber[\"soyisim\"])"
   ]
  },
  {
   "cell_type": "code",
   "execution_count": 8,
   "metadata": {},
   "outputs": [
    {
     "name": "stdout",
     "output_type": "stream",
     "text": [
      "{'isim': 'Cemal', 'soyisim': 'Cici', 'yaşadığı yer': 'Trabzon', 'yaş': 25}\n"
     ]
    }
   ],
   "source": [
    "# Sözlüğe yeni değer ekleme\n",
    "rehber[\"yaş\"] = 25\n",
    "print(rehber)"
   ]
  },
  {
   "cell_type": "code",
   "execution_count": 9,
   "metadata": {},
   "outputs": [
    {
     "name": "stdout",
     "output_type": "stream",
     "text": [
      "{'isim': 'Cemal', 'soyisim': 'Cici', 'yaşadığı yer': 'Ankara', 'yaş': 25}\n"
     ]
    }
   ],
   "source": [
    "# Sözlük değerini değiştirme\n",
    "rehber[\"yaşadığı yer\"] = \"Ankara\"\n",
    "print(rehber)"
   ]
  },
  {
   "cell_type": "code",
   "execution_count": 10,
   "metadata": {},
   "outputs": [
    {
     "name": "stdout",
     "output_type": "stream",
     "text": [
      "isim\n",
      "Cemal\n",
      "soyisim\n",
      "Cici\n",
      "yaşadığı yer\n",
      "Ankara\n",
      "yaş\n",
      "25\n"
     ]
    }
   ],
   "source": [
    "# Döngü ile bütün değerleri yazdırma\n",
    "for anahtar in rehber:\n",
    "    print(anahtar)\n",
    "    print(rehber[anahtar])"
   ]
  },
  {
   "cell_type": "code",
   "execution_count": 13,
   "metadata": {},
   "outputs": [
    {
     "name": "stdout",
     "output_type": "stream",
     "text": [
      "{'France': 'Paris', 'Germany': 'Berlin'}\n"
     ]
    }
   ],
   "source": [
    "baskentler = {\n",
    "    \"France\": \"Paris\",\n",
    "    \"Germany\": \"Berlin\",\n",
    "}\n",
    "print(baskentler)"
   ]
  },
  {
   "cell_type": "code",
   "execution_count": 14,
   "metadata": {},
   "outputs": [
    {
     "name": "stdout",
     "output_type": "stream",
     "text": [
      "{'France': ['Paris', 'Lille', 'Dijon'], 'Germany': ['Berlin', 'Hamburg', 'Stuttgart']}\n"
     ]
    }
   ],
   "source": [
    "# sözlük içinde liste\n",
    "gezi_kayit = {\n",
    "    \"France\": [\"Paris\", \"Lille\", \"Dijon\"],\n",
    "    \"Germany\": [\"Berlin\", \"Hamburg\", \"Stuttgart\"],\n",
    "}\n",
    "print(gezi_kayit)"
   ]
  },
  {
   "cell_type": "code",
   "execution_count": 16,
   "metadata": {},
   "outputs": [
    {
     "name": "stdout",
     "output_type": "stream",
     "text": [
      "{'France': {'gezilen_sehirler': ['Paris', 'Lille', 'Dijon'], 'toplam_ziyaret': 12}, 'Germany': {'gezilen_sehirler': ['Berlin', 'Hamburg', 'Stuttgart'], 'toplam_ziyaret': 5}}\n"
     ]
    }
   ],
   "source": [
    "# Sözlük içinde sözlük\n",
    "gezi_kayit = {\n",
    "    \"France\": {\"gezilen_sehirler\": [\"Paris\", \"Lille\", \"Dijon\"], \"toplam_ziyaret\": 12},\n",
    "    \"Germany\": {\"gezilen_sehirler\": [\"Berlin\", \"Hamburg\", \"Stuttgart\"], \"toplam_ziyaret\": 5},\n",
    "}\n",
    "print(gezi_kayit)"
   ]
  },
  {
   "cell_type": "code",
   "execution_count": 17,
   "metadata": {},
   "outputs": [
    {
     "name": "stdout",
     "output_type": "stream",
     "text": [
      "[{'sehir': 'France', 'gezilen_sehirler': ['Paris', 'Lille', 'Dijon'], 'toplam_ziyaret': 12}, {'sehir': 'Germany', 'gezilen_sehirler': ['Berlin', 'Hamburg', 'Stuttgart'], 'toplam_ziyaret': 5}]\n"
     ]
    }
   ],
   "source": [
    "# Liste içinde sözlük\n",
    "gezi_kayit = [\n",
    "{\n",
    "    \"sehir\": \"France\", \n",
    "    \"gezilen_sehirler\": [\"Paris\", \"Lille\", \"Dijon\"], \n",
    "    \"toplam_ziyaret\": 12,\n",
    "},\n",
    "{\n",
    "    \"sehir\": \"Germany\",\n",
    "    \"gezilen_sehirler\": [\"Berlin\", \"Hamburg\", \"Stuttgart\"],\n",
    "    \"toplam_ziyaret\": 5,\n",
    "},\n",
    "]\n",
    "print(gezi_kayit)"
   ]
  },
  {
   "cell_type": "markdown",
   "metadata": {},
   "source": [
    "## Mini Proje - Not Durumu\n",
    "\n",
    "Projede amaç, öğrencilerin not durumlarına göre belirli mesajları vermek."
   ]
  },
  {
   "cell_type": "code",
   "execution_count": 18,
   "metadata": {},
   "outputs": [
    {
     "name": "stdout",
     "output_type": "stream",
     "text": [
      "{'Harry': 'Exceeds Expectations', 'Ron': 'Acceptable', 'Hermione': 'Outstanding', 'Draco': 'Acceptable', 'Neville': 'Fail'}\n"
     ]
    }
   ],
   "source": [
    "student_scores = {\n",
    "    \"Harry\": 81,\n",
    "    \"Ron\": 78,\n",
    "    \"Hermione\": 99, \n",
    "    \"Draco\": 74,\n",
    "    \"Neville\": 62,\n",
    "}\n",
    "\n",
    "student_grades = {}\n",
    "\n",
    "for name in student_scores:\n",
    "    if 90 < student_scores[name] <= 100:\n",
    "        student_grades[name] = \"Outstanding\"\n",
    "    elif 80 < student_scores[name] <= 90:\n",
    "        student_grades[name] = \"Exceeds Expectations\"\n",
    "    elif 70 < student_scores[name] <= 80:\n",
    "        student_grades[name] = \"Acceptable\"\n",
    "    elif 0 <= student_scores[name] <= 70:\n",
    "        student_grades[name] = \"Fail\"\n",
    "    else:\n",
    "        student_scores[name] = \"Unvaild Score\"\n",
    "\n",
    "print(student_grades)"
   ]
  },
  {
   "cell_type": "code",
   "execution_count": null,
   "metadata": {},
   "outputs": [],
   "source": []
  }
 ],
 "metadata": {
  "kernelspec": {
   "display_name": "Python 3",
   "language": "python",
   "name": "python3"
  },
  "language_info": {
   "codemirror_mode": {
    "name": "ipython",
    "version": 3
   },
   "file_extension": ".py",
   "mimetype": "text/x-python",
   "name": "python",
   "nbconvert_exporter": "python",
   "pygments_lexer": "ipython3",
   "version": "3.8.5"
  }
 },
 "nbformat": 4,
 "nbformat_minor": 4
}
